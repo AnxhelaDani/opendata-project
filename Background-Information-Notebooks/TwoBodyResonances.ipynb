{
 "cells": [
  {
   "cell_type": "markdown",
   "metadata": {},
   "source": [
    "# Two Body Resonances"
   ]
  },
  {
   "cell_type": "markdown",
   "metadata": {},
   "source": [
    "When the B meson decays into three hadrons, it can do so either directly or by decaying into one hadron and a neutral intermediate particle. A process like the latter would for example be B<sup>+</sup> → h<sup>+</sup>R<sup>0</sup>. This intermediate particle, R<sup>0</sup>, would then continue to decay into the two other oppositely charged hadrons, R<sup>0</sup> → h<sup>+</sup>h<sup>-</sup>.\n",
    "\n",
    "The analysis in this project examines the decay of charmless B mesons to pions and kaons, but the most frequent decays of the B meson occur through the b quark decaying into a c quark. This latter process would be considered background, so that we need to exlude events which include c quarks. One event to exclude would for example be the decay process including a  a D meson (which contains a c quark). \n",
    "\n",
    "Another way of eliminating background is the exclusion of misidentified tracks in the detector. A muon track can be misidentified as a pion track, so that in the case of B<sup>±</sup> → J/ψ K<sup>±</sup>, with the particle J/ψ decaying into two muons, J/ψ → μ<sup>+</sup>μ<sup>−</sup>, the two muons could me misidentified as pions. \n",
    "\n",
    "You can eliminate both kinds of background from your analysis by making sure that particles with c quarks are excluded and by looking at your Dalitz plots and cutting resonances around the masses of the J/ψ particle from your data. "
   ]
  },
  {
   "cell_type": "code",
   "execution_count": null,
   "metadata": {
    "collapsed": true
   },
   "outputs": [],
   "source": []
  }
 ],
 "metadata": {
  "kernelspec": {
   "display_name": "Python 2",
   "language": "python",
   "name": "python2"
  },
  "language_info": {
   "codemirror_mode": {
    "name": "ipython",
    "version": 2
   },
   "file_extension": ".py",
   "mimetype": "text/x-python",
   "name": "python",
   "nbconvert_exporter": "python",
   "pygments_lexer": "ipython2",
   "version": "2.7.10"
  }
 },
 "nbformat": 4,
 "nbformat_minor": 0
}
