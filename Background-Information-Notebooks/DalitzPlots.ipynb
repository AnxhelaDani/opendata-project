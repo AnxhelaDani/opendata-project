{
 "cells": [
  {
   "cell_type": "markdown",
   "metadata": {},
   "source": [
    "# Dalitz Plots\n",
    "\n",
    "## What are Dalitz Plots used for?\n",
    "\n",
    "In particle physics, Dalitz plots illustrate the interference of the [quantum mechanical amplitudes](https://en.wikipedia.org/wiki/Probability_amplitude) of the final state particles.\n",
    "\n",
    "The original use for Dalitz plots consisted in analysing the final state of a three body decay, just like in our case where the B meson decays to three smaller particles. What Dalitz plots help with is the analysis of the momentum these particles have with respect to each other. \n",
    "\n",
    "## How do we construct a Dalitz Plot?\n",
    "\n",
    "On each of the two axes of the Dalitz plot, we construct a quasi-particle which consists of two of the three sub particles and has the invariant mass of these two particles combined. \n",
    "\n",
    "<img src=\"http://www.quantumdiaries.org/wp-content/uploads/2012/11/dalits_boundary.png\" width=\"400\" />\n",
    "\n",
    "Next, we need to think about the possible minima and maxima for the values that the invariant masses of our quasi-particles can have. Think about the role that particle masses play in the distribution of the overall energy and set the limits accordingly (Example: Particles 1 and 2 together cannot have more energy than the energy of the parent particle minus the rest mass of particle 3, since it decayed to particles 1,2 and 3; thus particle 3 must at least have its rest mass to exist at all.)\n",
    "The next thing you can think about now is how to choose which two particles should make up a quasi-particle and how your choice would influence the shape of the Dalitz Plot."
   ]
  },
  {
   "cell_type": "code",
   "execution_count": null,
   "metadata": {
    "collapsed": true
   },
   "outputs": [],
   "source": []
  }
 ],
 "metadata": {
  "kernelspec": {
   "display_name": "Python 2",
   "language": "python",
   "name": "python2"
  },
  "language_info": {
   "codemirror_mode": {
    "name": "ipython",
    "version": 2
   },
   "file_extension": ".py",
   "mimetype": "text/x-python",
   "name": "python",
   "nbconvert_exporter": "python",
   "pygments_lexer": "ipython2",
   "version": "2.7.10"
  }
 },
 "nbformat": 4,
 "nbformat_minor": 0
}
