{
 "cells": [
  {
   "cell_type": "markdown",
   "metadata": {},
   "source": [
    "# Analysis of Arsenal 2003 - 2004 49 game unbeated run"
   ]
  },
  {
   "cell_type": "markdown",
   "metadata": {},
   "source": [
    "Welcome to the programming example page - This page will show example code that is applicable to the analysis, for reference in your analysis."
   ]
  },
  {
   "cell_type": "code",
   "execution_count": 2,
   "metadata": {
    "collapsed": false,
    "run_control": {
     "frozen": false,
     "read_only": false
    }
   },
   "outputs": [
    {
     "name": "stdout",
     "output_type": "stream",
     "text": [
      "Populating the interactive namespace from numpy and matplotlib\n"
     ]
    }
   ],
   "source": [
    "import pandas\n",
    "import math\n",
    "from ipywidgets import interact\n",
    "%pylab inline"
   ]
  },
  {
   "cell_type": "code",
   "execution_count": 3,
   "metadata": {
    "collapsed": false,
    "run_control": {
     "frozen": false,
     "read_only": false
    }
   },
   "outputs": [],
   "source": [
    "dataFrame = pandas.read_csv('Arsenal.csv',',') #Getting the data into a panda DataFrame\n",
    "#The data you will work with will not be in .csv form, but can use DataFrame(Array) to do the same thing"
   ]
  },
  {
   "cell_type": "markdown",
   "metadata": {},
   "source": [
    "Lets view the first few lines of the table, for you non-football fans GF is goals for, the number of goals scored in a game and GA is goals against, the number of goals conceded in a game. Because we have put the data into a pandas DataFrame we can now use all the functions associated with DataFrames. You can find a list of functions you will find useful [here](LINK THIS).\n",
    "\n",
    "You will see in other work the convention df for naming dataframes. Here we have used the full word for readabilities sake."
   ]
  },
  {
   "cell_type": "code",
   "execution_count": 4,
   "metadata": {
    "collapsed": false,
    "run_control": {
     "frozen": false,
     "read_only": false
    }
   },
   "outputs": [
    {
     "data": {
      "text/html": [
       "<div>\n",
       "<table border=\"1\" class=\"dataframe\">\n",
       "  <thead>\n",
       "    <tr style=\"text-align: right;\">\n",
       "      <th></th>\n",
       "      <th>Game</th>\n",
       "      <th>Opponent</th>\n",
       "      <th>Home_Or_Away</th>\n",
       "      <th>GF</th>\n",
       "      <th>GA</th>\n",
       "      <th>Attendance</th>\n",
       "    </tr>\n",
       "  </thead>\n",
       "  <tbody>\n",
       "    <tr>\n",
       "      <th>0</th>\n",
       "      <td>1</td>\n",
       "      <td>Southampton</td>\n",
       "      <td>H</td>\n",
       "      <td>6</td>\n",
       "      <td>1</td>\n",
       "      <td>38.052</td>\n",
       "    </tr>\n",
       "    <tr>\n",
       "      <th>1</th>\n",
       "      <td>2</td>\n",
       "      <td>Sunderland</td>\n",
       "      <td>A</td>\n",
       "      <td>4</td>\n",
       "      <td>0</td>\n",
       "      <td>40.188</td>\n",
       "    </tr>\n",
       "    <tr>\n",
       "      <th>2</th>\n",
       "      <td>3</td>\n",
       "      <td>Everton</td>\n",
       "      <td>H</td>\n",
       "      <td>2</td>\n",
       "      <td>1</td>\n",
       "      <td>38.014</td>\n",
       "    </tr>\n",
       "    <tr>\n",
       "      <th>3</th>\n",
       "      <td>4</td>\n",
       "      <td>Middlesbrough</td>\n",
       "      <td>A</td>\n",
       "      <td>4</td>\n",
       "      <td>0</td>\n",
       "      <td>29.450</td>\n",
       "    </tr>\n",
       "    <tr>\n",
       "      <th>4</th>\n",
       "      <td>5</td>\n",
       "      <td>Aston Villa</td>\n",
       "      <td>H</td>\n",
       "      <td>2</td>\n",
       "      <td>0</td>\n",
       "      <td>38.010</td>\n",
       "    </tr>\n",
       "  </tbody>\n",
       "</table>\n",
       "</div>"
      ],
      "text/plain": [
       "   Game       Opponent Home_Or_Away  GF  GA  Attendance\n",
       "0     1    Southampton            H   6   1      38.052\n",
       "1     2     Sunderland            A   4   0      40.188\n",
       "2     3        Everton            H   2   1      38.014\n",
       "3     4  Middlesbrough            A   4   0      29.450\n",
       "4     5    Aston Villa            H   2   0      38.010"
      ]
     },
     "execution_count": 4,
     "metadata": {},
     "output_type": "execute_result"
    }
   ],
   "source": [
    "dataFrame.head(5) #Displaying some of the data so you can see what form it takes in the DataFrame"
   ]
  },
  {
   "cell_type": "markdown",
   "metadata": {},
   "source": [
    "Firstly lets learn how to plot histograms. This is best done for continuous data so lets plot the attendance. Before we can properly plot a histogram we need to know certain things such as the min and max of the data."
   ]
  },
  {
   "cell_type": "code",
   "execution_count": 5,
   "metadata": {
    "collapsed": false,
    "run_control": {
     "frozen": false,
     "read_only": false
    }
   },
   "outputs": [
    {
     "data": {
      "text/plain": [
       "Game                      1\n",
       "Opponent        Aston Villa\n",
       "Home_Or_Away              A\n",
       "GF                        0\n",
       "GA                        0\n",
       "Attendance           18.102\n",
       "dtype: object"
      ]
     },
     "execution_count": 5,
     "metadata": {},
     "output_type": "execute_result"
    }
   ],
   "source": [
    "dataFrame.min()"
   ]
  },
  {
   "cell_type": "code",
   "execution_count": 6,
   "metadata": {
    "collapsed": false,
    "run_control": {
     "frozen": false,
     "read_only": false
    }
   },
   "outputs": [
    {
     "data": {
      "text/plain": [
       "Game                                 49\n",
       "Opponent        Wolverhampton Wanderers\n",
       "Home_Or_Away                          H\n",
       "GF                                    6\n",
       "GA                                    3\n",
       "Attendance                       67.639\n",
       "dtype: object"
      ]
     },
     "execution_count": 6,
     "metadata": {},
     "output_type": "execute_result"
    }
   ],
   "source": [
    "dataFrame.max()"
   ]
  },
  {
   "cell_type": "markdown",
   "metadata": {},
   "source": [
    "We can now plot the histogram over a sensible range using the hist function from matplot lib."
   ]
  },
  {
   "cell_type": "code",
   "execution_count": 7,
   "metadata": {
    "collapsed": false,
    "run_control": {
     "frozen": false,
     "read_only": false
    }
   },
   "outputs": [
    {
     "data": {
      "text/plain": [
       "<matplotlib.text.Text at 0x7f952d79d050>"
      ]
     },
     "execution_count": 7,
     "metadata": {},
     "output_type": "execute_result"
    },
    {
     "data": {
      "image/png": "[encoded data removed]",
      "text/plain": [
       "<matplotlib.figure.Figure at 0x7f952d7d0f90>"
      ]
     },
     "metadata": {},
     "output_type": "display_data"
    }
   ],
   "source": [
    "attendanceData = hist(dataFrame['Attendance'], bins=10, range=[10,70]) #Plot the histogram of attendence\n",
    "xlabel('Attendance (1000 people)') #Plot an x label\n",
    "ylabel('Number of Games') #Plot a y label\n"
   ]
  },
  {
   "cell_type": "markdown",
   "metadata": {},
   "source": [
    "This is nice, but the group size is rather large! We can see that the most games occur between 35,000 and 45,000 people - but what if we wanted to see the effect of all of the home games being played in the same stadium, or more clearly see the spread of data? To do this we can change the number of bins (by changing the bin size) and replotting the graph. Try playing with the slider below to investigate how changing bin size effects the output graph."
   ]
  },
  {
   "cell_type": "code",
   "execution_count": 8,
   "metadata": {
    "collapsed": false,
    "run_control": {
     "frozen": false,
     "read_only": false
    },
    "scrolled": true
   },
   "outputs": [
    {
     "data": {
      "text/plain": [
       "<function __main__.plthist>"
      ]
     },
     "execution_count": 8,
     "metadata": {},
     "output_type": "execute_result"
    },
    {
     "data": {
      "image/png": "[encoded data removed]",
      "text/plain": [
       "<matplotlib.figure.Figure at 0x7f952b6b4f50>"
      ]
     },
     "metadata": {},
     "output_type": "display_data"
    }
   ],
   "source": [
    "def plthist(bins): \n",
    "    changingBins = hist(dataFrame['Attendance'], bins=bins, range=[10,70])\n",
    "    xlabel('Attendance (1000 people)') #Plot an x label\n",
    "    ylabel('Number of Games') #Plot a y label\n",
    "    BinSize = round(float(60)/bins,2)\n",
    "    \n",
    "    pass\n",
    "\n",
    "interact(plthist,bins = [5,20,1])\n"
   ]
  },
  {
   "cell_type": "markdown",
   "metadata": {},
   "source": [
    "As you can see by varying the slider - changing the bin size really does change how the data looks! There is discussion on what is the appropiate bin size to use in the main notebook.\n",
    "\n",
    "It should be fairly obvious that there is a large spike in the data at 38,000 - 39,000 atendees, due to home games all being played at the same stadium. What if we wanted to know the true distribution of stadium sizes (assuming each stadium is close to being filled each game!) without the bias of the home games? This is where we can preselect our data in order to filter it!"
   ]
  },
  {
   "cell_type": "markdown",
   "metadata": {},
   "source": [
    "## Pre Selections"
   ]
  },
  {
   "cell_type": "markdown",
   "metadata": {},
   "source": [
    "We now want to pre select our data. This essentially means filtering based on a conditional statement. We could do so by building a new dataset from the old one with loops and if statements, but the inbuilt pandas function .query provides a quicker way."
   ]
  },
  {
   "cell_type": "code",
   "execution_count": 9,
   "metadata": {
    "collapsed": false,
    "run_control": {
     "frozen": false,
     "read_only": false
    }
   },
   "outputs": [],
   "source": [
    "awayPreSelection = \"(Home_Or_Away == 'A')\" #You can create a pre selection as a string and then pass it to DataFrame.query\n",
    "homePreSelection = \"(Home_Or_Away == 'H')\" #The variables you test with conditions are the headers of the table  \n",
    "homeDataFrame = dataFrame.query(homePreSelection) #Just another reason to use.head() to check what the data looks like!\n",
    "awayDataFrame = dataFrame.query(awayPreSelection)"
   ]
  },
  {
   "cell_type": "markdown",
   "metadata": {},
   "source": [
    "Lets check the new DataFrames to see if this has worked!"
   ]
  },
  {
   "cell_type": "code",
   "execution_count": 10,
   "metadata": {
    "collapsed": false,
    "run_control": {
     "frozen": false,
     "read_only": false
    }
   },
   "outputs": [
    {
     "data": {
      "text/html": [
       "<div>\n",
       "<table border=\"1\" class=\"dataframe\">\n",
       "  <thead>\n",
       "    <tr style=\"text-align: right;\">\n",
       "      <th></th>\n",
       "      <th>Game</th>\n",
       "      <th>Opponent</th>\n",
       "      <th>Home_Or_Away</th>\n",
       "      <th>GF</th>\n",
       "      <th>GA</th>\n",
       "      <th>Attendance</th>\n",
       "    </tr>\n",
       "  </thead>\n",
       "  <tbody>\n",
       "    <tr>\n",
       "      <th>1</th>\n",
       "      <td>2</td>\n",
       "      <td>Sunderland</td>\n",
       "      <td>A</td>\n",
       "      <td>4</td>\n",
       "      <td>0</td>\n",
       "      <td>40.188</td>\n",
       "    </tr>\n",
       "    <tr>\n",
       "      <th>3</th>\n",
       "      <td>4</td>\n",
       "      <td>Middlesbrough</td>\n",
       "      <td>A</td>\n",
       "      <td>4</td>\n",
       "      <td>0</td>\n",
       "      <td>29.450</td>\n",
       "    </tr>\n",
       "    <tr>\n",
       "      <th>5</th>\n",
       "      <td>6</td>\n",
       "      <td>Manchester City</td>\n",
       "      <td>A</td>\n",
       "      <td>2</td>\n",
       "      <td>1</td>\n",
       "      <td>46.436</td>\n",
       "    </tr>\n",
       "    <tr>\n",
       "      <th>7</th>\n",
       "      <td>8</td>\n",
       "      <td>Manchester United</td>\n",
       "      <td>A</td>\n",
       "      <td>0</td>\n",
       "      <td>0</td>\n",
       "      <td>67.639</td>\n",
       "    </tr>\n",
       "    <tr>\n",
       "      <th>9</th>\n",
       "      <td>10</td>\n",
       "      <td>Liverpool</td>\n",
       "      <td>A</td>\n",
       "      <td>2</td>\n",
       "      <td>1</td>\n",
       "      <td>44.374</td>\n",
       "    </tr>\n",
       "  </tbody>\n",
       "</table>\n",
       "</div>"
      ],
      "text/plain": [
       "   Game           Opponent Home_Or_Away  GF  GA  Attendance\n",
       "1     2         Sunderland            A   4   0      40.188\n",
       "3     4      Middlesbrough            A   4   0      29.450\n",
       "5     6    Manchester City            A   2   1      46.436\n",
       "7     8  Manchester United            A   0   0      67.639\n",
       "9    10          Liverpool            A   2   1      44.374"
      ]
     },
     "execution_count": 10,
     "metadata": {},
     "output_type": "execute_result"
    }
   ],
   "source": [
    "awayDataFrame.head()"
   ]
  },
  {
   "cell_type": "markdown",
   "metadata": {
    "collapsed": true
   },
   "source": [
    "Brilliant! You will find this technique useful to do the momentum pre selections in the main analysis. Lets now plot the away games to see the distribution of stadium size throughout the different teams in the league.\n",
    "\n",
    "You may currently be asking why the indexes skip all the even numbers? This is due to how query works and is explained below"
   ]
  },
  {
   "cell_type": "code",
   "execution_count": 11,
   "metadata": {
    "collapsed": false,
    "run_control": {
     "frozen": false,
     "read_only": false
    }
   },
   "outputs": [
    {
     "data": {
      "image/png": "[encoded data removed]",
      "text/plain": [
       "<matplotlib.figure.Figure at 0x7f952b5fe750>"
      ]
     },
     "metadata": {},
     "output_type": "display_data"
    }
   ],
   "source": [
    "attendanceData = hist(awayDataFrame['Attendance'].values,bins = 15,range = [10,70]) #plot the non-biased distribution!\n",
    "#.values is needed due to a quirk of how pandas.query works. More information below!"
   ]
  },
  {
   "cell_type": "markdown",
   "metadata": {},
   "source": [
    "We have now successfully plotted the histogram of just the away games after applying our pre-selection. Why did we have to do...\n",
    ">awayDataFrame['Attendance'].values\n",
    "\n",
    "This (and the associated indexing weirdness) comes from the fact that when we apply .query to our original DataFrame creating the awayDataFrame there isn't a process of actually copying of actual. The new dataFrame just points to the values in the old one. This can lead to problems when using non-pandas functions that aren't ready to handle data whos first array index is not [0]. Using .values before the histogram avoids this problem!"
   ]
  },
  {
   "cell_type": "markdown",
   "metadata": {},
   "source": [
    "# Goals For vs Goals Against Asymmetry - Scatter Plot"
   ]
  },
  {
   "cell_type": "markdown",
   "metadata": {},
   "source": [
    "You will find this section useful for when it comes to creating a dalitz plot. Whilst this section does not create one the actual code for making a dalitz plot vs a scatter plot are the same, it's what you do with the data beforehand that makes the difference!\n",
    "\n",
    "We want to see if Arsenal were spontaneously creating goals in a game without the equal and opposite reaction of the other team scoring against. In order to do this we can create a scatter plot of Goals For vs Goals against and look at the shape of the plot with respect to a line of equal goals for and against."
   ]
  },
  {
   "cell_type": "code",
   "execution_count": 12,
   "metadata": {
    "collapsed": false
   },
   "outputs": [
    {
     "data": {
      "text/plain": [
       "<matplotlib.text.Text at 0x7f952b405410>"
      ]
     },
     "execution_count": 12,
     "metadata": {},
     "output_type": "execute_result"
    },
    {
     "name": "stderr",
     "output_type": "stream",
     "text": [
      "/root/miniconda/envs/rep_py2/lib/python2.7/site-packages/matplotlib/collections.py:590: FutureWarning: elementwise comparison failed; returning scalar instead, but in the future will perform elementwise comparison\n",
      "  if self._edgecolors == str('face'):\n"
     ]
    },
    {
     "data": {
      "image/png": "[encoded data removed]",
      "text/plain": [
       "<matplotlib.figure.Figure at 0x7f952b6a3e50>"
      ]
     },
     "metadata": {},
     "output_type": "display_data"
    }
   ],
   "source": [
    "scatter(dataFrame['GF'].values,dataFrame['GA'].values)\n",
    "plt.xlim(-0.5, 7) #force the plot to be square so we can look at symmetries\n",
    "plt.ylim(-0.5, 7)\n",
    "x = [x - 0.5 for x in range(8)]; x.append(7) #Generate numbers y = x for plotting line of symmetry\n",
    "y = [y - 0.5 for y in range(8)]; y.append(7)\n",
    "plt.plot(x,y); #Plot line y = x so we can see where exact symmetry would be, not necessary on your plots\n",
    "xlabel('Goals For')\n",
    "ylabel('Goals Against')"
   ]
  },
  {
   "cell_type": "markdown",
   "metadata": {},
   "source": [
    "As you can see from the shape of scatter plot there is spontaneous breaking of Goals for/Goals against symmetry. Every single data point is on or below the line. Good job Arsenal! "
   ]
  },
  {
   "cell_type": "markdown",
   "metadata": {},
   "source": [
    "We can also plot a 2d histogram and bin the results, this data is not the best to do this with as there is not enough data in the set but will suffice for teaching purposes. Additionally it's quite strange to do this with discrete data (you end up with groups ending at non-integer values of goals) we have given you the ability to change the number of bins so you can see how the plot changes. Note that the number of total bins is the value of the slider squared. This is because the value of bins given in the hist2d function is the number of bins in one axis."
   ]
  },
  {
   "cell_type": "code",
   "execution_count": 13,
   "metadata": {
    "collapsed": false
   },
   "outputs": [
    {
     "data": {
      "image/png": "[encoded data removed]",
      "text/plain": [
       "<matplotlib.figure.Figure at 0x7f952b655390>"
      ]
     },
     "metadata": {},
     "output_type": "display_data"
    }
   ],
   "source": [
    "def plthist(bins):\n",
    "    hist2d(dataFrame['GF'].values,dataFrame['GA'].values, bins=bins, cmap = 'Blues')#Plot the 2d histogram\n",
    "    colorbar() #Set a colour legend\n",
    "    show()\n",
    "    \n",
    "    \n",
    "interact(plthist,bins = [1,20,1]) #Creates the slider"
   ]
  },
  {
   "cell_type": "markdown",
   "metadata": {},
   "source": [
    "As you can see from playing about with the slider discrete data such as this doesn't work well at low high number of bins. Looking at the colour distribution at low bin numbers still shows the spontaneous goal creation! Even though this wasn't the best data to use, you can still use similar code in the main particle analysis!"
   ]
  }
 ],
 "metadata": {
  "kernelspec": {
   "display_name": "Python 2",
   "language": "python",
   "name": "python2"
  },
  "language_info": {
   "codemirror_mode": {
    "name": "ipython",
    "version": 2
   },
   "file_extension": ".py",
   "mimetype": "text/x-python",
   "name": "python",
   "nbconvert_exporter": "python",
   "pygments_lexer": "ipython2",
   "version": "2.7.10"
  },
  "toc": {
   "toc_cell": false,
   "toc_number_sections": true,
   "toc_threshold": 6,
   "toc_window_display": false
  }
 },
 "nbformat": 4,
 "nbformat_minor": 0
}
