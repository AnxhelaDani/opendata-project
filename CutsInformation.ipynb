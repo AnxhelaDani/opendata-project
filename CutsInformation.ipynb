{
 "cells": [
  {
   "cell_type": "markdown",
   "metadata": {},
   "source": [
    "# Data Selection Cuts\n",
    "\n",
    "## Why do we apply cuts?\n",
    "\n",
    "When the LHCb detector collects data, it records the signals which seem to be the most relevant to the research in question. The detector cannot save all of the data availalble to it because the particle collisions produce too many events in a too short period of time for all of the electronic signals in the detector to be recorded. Because of this, there are certain [triggers](http://lhcb-public.web.cern.ch/lhcb-public/en/Data%20Collection/Triggers-en.html) which look out for the most physically interesting signals produced in the detector and thus determine which data gets recorded. But we still see events being recorded which were produced in background processess. In our data analysis we would get the most precise results if we considered only events stemming from the process we intend to observe, but achieving a completely clean data set like that is virtually impossible. To optimise the data set, scientists try to eliminate as much of the background data as possible. This can be done by applying certain cuts to the data being used in the analysis. The criteria for these cuts depend on the significant features we expect from events stemming from the process we aim to observe. Criteria like this could be specific signatures on the detector. Signatures could be specific values for the transverse momentum, a cetain minimum energy or characteristic tracks in the detector.\n",
    "\n",
    "<img src=\"http://lhcb-public.web.cern.ch/lhcb-public/Images_2012/Images_2010/z2.jpg\" width=\"600\" />\n",
    "\n",
    " \n",
    "\n",
    "## How do we choose the ideal cuts?\n",
    "\n",
    "After identifying the specific features of the data which indicate the origin from the process we want to observe, we can up set criteria based on these features for the data used in our data analysis. This means we can eliminate any data which fails to fulfil the criteria and this way reduce the number of bachground events within our analysis. But it is very important to be careful with the harshness of cuts. By eliminating too many events we could lose essential information about the process we aim to observe and worsen the statistical significance of any analysis result we might conclude. There is no strict rule for the ideal selection cuts, so the only way to find a good balance is to apply sensible cuts in the beginning and potentially adjust them at a later stage to improve the statistical uncertainties and the significance of the result achieved. "
   ]
  },
  {
   "cell_type": "code",
   "execution_count": null,
   "metadata": {
    "collapsed": true
   },
   "outputs": [],
   "source": []
  }
 ],
 "metadata": {
  "kernelspec": {
   "display_name": "Python 2",
   "language": "python",
   "name": "python2"
  },
  "language_info": {
   "codemirror_mode": {
    "name": "ipython",
    "version": 2
   },
   "file_extension": ".py",
   "mimetype": "text/x-python",
   "name": "python",
   "nbconvert_exporter": "python",
   "pygments_lexer": "ipython2",
   "version": "2.7.10"
  }
 },
 "nbformat": 4,
 "nbformat_minor": 0
}
