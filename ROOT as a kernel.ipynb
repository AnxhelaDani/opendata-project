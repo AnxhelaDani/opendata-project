{
 "cells": [
  {
   "cell_type": "markdown",
   "metadata": {},
   "source": [
    "# CLING as a kernel\n",
    "\n",
    "Recently a ROOT kernel was developed for [jupyter notebooks](http://jupyter.org). This means you can now drive `cling` from a notebook. This means you can now use ROOT and do all the things you are used to from other [`jupyter` kernels](https://github.com/ipython/ipython/wiki/IPython-kernels-for-other-languages).\n",
    "\n",
    "\n",
    "## Caveat\n",
    "However because `c++` is not meant to be a interactively programmed language, you can get weird errors if you re-execute a cell that defines a variable.\n",
    "\n",
    "Remember that your input has to be `c++`!"
   ]
  },
  {
   "cell_type": "code",
   "execution_count": 1,
   "metadata": {
    "collapsed": false
   },
   "outputs": [
    {
     "name": "stdout",
     "output_type": "stream",
     "text": [
      "(double) 4.00000\n"
     ]
    }
   ],
   "source": [
    "2. + 2"
   ]
  },
  {
   "cell_type": "code",
   "execution_count": 2,
   "metadata": {
    "collapsed": false
   },
   "outputs": [],
   "source": [
    "TH1F h = TH1F(\"h\", \"A Histogram\", 100,-10,10);"
   ]
  },
  {
   "cell_type": "code",
   "execution_count": 3,
   "metadata": {
    "collapsed": false
   },
   "outputs": [],
   "source": [
    "h.FillRandom(\"gaus\", 1000);"
   ]
  },
  {
   "cell_type": "code",
   "execution_count": 4,
   "metadata": {
    "collapsed": false
   },
   "outputs": [],
   "source": [
    "h.GetMean();"
   ]
  },
  {
   "cell_type": "code",
   "execution_count": 5,
   "metadata": {
    "collapsed": false
   },
   "outputs": [
    {
     "name": "stderr",
     "output_type": "stream",
     "text": [
      "Info in <TCanvas::Print>: png file hist.png has been created\n"
     ]
    }
   ],
   "source": [
    "TCanvas c;\n",
    "h.Draw();\n",
    "// Save the histogram as a png\n",
    "c.SaveAs(\"hist.png\")"
   ]
  },
  {
   "cell_type": "code",
   "execution_count": 6,
   "metadata": {
    "collapsed": false
   },
   "outputs": [
    {
     "data": {
      "image/png": "[encoded data removed]",
      "text/plain": [
       "<IPython.core.display.Image object>"
      ]
     },
     "metadata": {},
     "output_type": "display_data"
    }
   ],
   "source": [
    "// or display it in the notebook\n",
    "c.Draw()"
   ]
  },
  {
   "cell_type": "markdown",
   "metadata": {},
   "source": [
    "## More complicated things\n",
    "\n",
    "You can also do more complicated things like defining a new class."
   ]
  },
  {
   "cell_type": "code",
   "execution_count": 7,
   "metadata": {
    "collapsed": true
   },
   "outputs": [],
   "source": [
    ".cpp -d\n",
    "class Rectangle {\n",
    "    private:\n",
    "        double w;\n",
    "        double h;\n",
    "\n",
    "    public:\n",
    "    \n",
    "        Rectangle(double w_, double h_) {\n",
    "            w = w_;\n",
    "            h = h_;\n",
    "        }\n",
    "        double area(void) {\n",
    "            return w * h;\n",
    "        }\n",
    "        double perimiter(void) {\n",
    "            return 2 * (w + h);\n",
    "        }\n",
    "};"
   ]
  },
  {
   "cell_type": "code",
   "execution_count": 8,
   "metadata": {
    "collapsed": false
   },
   "outputs": [],
   "source": [
    "Rectangle r = Rectangle(5, 4);\n",
    "r.area();"
   ]
  },
  {
   "cell_type": "code",
   "execution_count": 9,
   "metadata": {
    "collapsed": false
   },
   "outputs": [
    {
     "name": "stdout",
     "output_type": "stream",
     "text": [
      "20(std::basic_ostream<char, std::char_traits<char> >::__ostream_type &) @0x7f27a509a6e0\n"
     ]
    }
   ],
   "source": [
    "// best way to get access to the value returned from r.area()\n",
    "std::cout << r.area()"
   ]
  },
  {
   "cell_type": "code",
   "execution_count": null,
   "metadata": {
    "collapsed": true
   },
   "outputs": [],
   "source": []
  }
 ],
 "metadata": {
  "kernelspec": {
   "display_name": "ROOT",
   "language": "c++",
   "name": "root"
  },
  "language_info": {
   "codemirror_mode": {
    "name": "ipython",
    "version": 2
   },
   "file_extension": ".py",
   "mimetype": "text/x-python",
   "name": "python",
   "nbconvert_exporter": "python",
   "pygments_lexer": "ipython2",
   "version": "2.7.10"
  }
 },
 "nbformat": 4,
 "nbformat_minor": 0
}
