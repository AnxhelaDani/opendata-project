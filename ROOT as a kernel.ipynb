{
 "cells": [
  {
   "cell_type": "markdown",
   "metadata": {},
   "source": [
    "# ROOT as a kernel\n",
    "\n",
    "There exists a rudimentary jupyter kernel that allows you to run ROOT. Most important missing feature: graphics!"
   ]
  },
  {
   "cell_type": "code",
   "execution_count": 4,
   "metadata": {
    "collapsed": false
   },
   "outputs": [
    {
     "name": "stdout",
     "output_type": "stream",
     "text": [
      "2. + 2\r\n",
      "\u001b[0m(const double)4.00000000000000000e+00\r\n",
      "\u001b[0m"
     ]
    }
   ],
   "source": [
    "2. + 2"
   ]
  },
  {
   "cell_type": "code",
   "execution_count": 1,
   "metadata": {
    "collapsed": false
   },
   "outputs": [
    {
     "name": "stdout",
     "output_type": "stream",
     "text": [
      "\u001b[0m\u001b[0m"
     ]
    }
   ],
   "source": [
    "TH1F h = TH1F(\"h\", \"A Histogram\", 100,-10,10);"
   ]
  },
  {
   "cell_type": "code",
   "execution_count": 2,
   "metadata": {
    "collapsed": false
   },
   "outputs": [
    {
     "name": "stdout",
     "output_type": "stream",
     "text": [
      "\u001b[0m\u001b[0m"
     ]
    }
   ],
   "source": [
    "h.FillRandom(\"gaus\", 1000);"
   ]
  },
  {
   "cell_type": "code",
   "execution_count": 3,
   "metadata": {
    "collapsed": false
   },
   "outputs": [
    {
     "name": "stdout",
     "output_type": "stream",
     "text": [
      "\u001b[0m(const Double_t)1.12480590855199656e-02\r\n",
      "\u001b[0m"
     ]
    }
   ],
   "source": [
    "h.GetMean();"
   ]
  },
  {
   "cell_type": "code",
   "execution_count": 5,
   "metadata": {
    "collapsed": false
   },
   "outputs": [
    {
     "name": "stdout",
     "output_type": "stream",
     "text": [
      "\u001b[0m\u001b[0m\u001b[0m\u001b[0m\u001b[0mInfo in <TCanvas::Print>: png file hist.png has been created\r\n",
      "\u001b[0m"
     ]
    }
   ],
   "source": [
    "TCanvas c;\n",
    "h.Draw();\n",
    "c.SaveAs(\"hist.png\")"
   ]
  }
 ],
 "metadata": {
  "kernelspec": {
   "display_name": "C++",
   "language": "",
   "name": "cling"
  },
  "language_info": {
   "codemirror_mode": "clike",
   "file_extension": ".c++",
   "mimetype": " text/x-c++src",
   "name": "c++"
  }
 },
 "nbformat": 4,
 "nbformat_minor": 0
}
