{
 "cells": [
  {
   "cell_type": "markdown",
   "metadata": {},
   "source": [
    "# Information about the Detector, the Software and the Data Sample"
   ]
  },
  {
   "cell_type": "markdown",
   "metadata": {},
   "source": [
    "The detector of the LHCb experiment is a forward facing single-arm detector. It is a [spectrometer](https://en.wikipedia.org/wiki/Spectrometer) with a z axis which describes the path of a particle beam into the detecor. The y axis is a vertical one and we can imagine the x axis to be the  axis along which the two beam bunches are accelerated until they collide. This detector speacialises in the study of be or c quarks. \n",
    "\n",
    "<img src=\"https://upload.wikimedia.org/wikipedia/commons/3/36/Lhcbview.jpg\" width=\"700\" />\n",
    "\n",
    "After the collision, the produced hadron which contains the b quark decays a few mm (to a cm) into the detector. From the tracks produced by the decay products, we can reconstruct the parent particle as shown here:\n",
    "\n",
    "<img src=\"http://i.livescience.com/images/i/000/033/303/i02/b-meson-muons.jpg?1352760469\" width=\"700\" />\n",
    "\n",
    "\n",
    "\n",
    "<div align=\"justify\">The detector includes a high-precision tracking system which detects charged particles. A silicon-strip vertex detector, known as the vertex locator ([VELO](http://lhcb-public.web.cern.ch/lhcb-public/en/detector/VELO-en.html)), surrounds the pp interaction region and measures at least three (typically ten) points on each track. This allows the position of the pp interaction point (primary vertex) to be reconstructed and the position of the decay of the hadron containing the b quark (secondary vertex) to be measured. The charged particles passing through the silicon create electron-hole pairs and these are drifted in an electric field across the silicon, and a signal obtained. A large-area silicon-strip detector, known as TT, has four detection layers and is located upstream of the [dipole magnet](http://lhcb-public.web.cern.ch/lhcb-public/en/detector/Magnet-en.html). Charged particles are bent by the magnetic force, and the dipole magnet has a bending power of about 4 Tm. The direction of the magnetic field is regularly reversed. This allows systematic uncertainties from oppositely charged particles bending into different regions of the detector, with potentially different detection efficiencies, to be controlled. Three stations of [silicon-strip detectors](http://lhcb-public.web.cern.ch/lhcb-public/en/detector/Trackers-en.html) (each with four detection layers) and straw drift tubes are placed downstream of the magnet and are known as T1,T2,T3. The straw drift tubes are filled with a gas (Ar & CO2) that is ionised by the charged particles passing through, and this charge is drifted under an electric field to be measured.\n",
    "The measured points are used to reconstruct the track of charged particles. The momentum of the charged particle can be obtained from the bend of the track. The combined tracking system provides a momentum measurement with a relative uncertainty that varies from 0.5% at low momentum, p, to 1% at 200 GeV/c, and an impact parameter measurement with a resolution of 20 μm for charged particles with large transverse momentum, pT.\n",
    "Different types of charged hadrons (pions, kaons, and protons) are distinguished using information from two [ring-imaging Cherenkov detectors](http://lhcb-public.web.cern.ch/lhcb-public/en/detector/RICH-en.html). Charged particles travel through volumes of gases (CF4, C4F10) or ultra-light solids (aerogel) faster than the local phase velocity of light in those materials, and radiate photons. This is known as the Cherenkov effect. These photons are measured and the angle at which the light is given off is directly related to the velocity of the particle. By combining the velocity information with the momentum information, the particle mass can be deduced and used to determine the type of the charged hadron.\n",
    "Photon, electron and hadron candidates are identified by a calorimeter system consisting of scintillating-pad (SPD) and preshower (PS) detectors, an electromagnetic calorimeter (ECAL) and a hadronic calorimeter (HCAL). The [calorimeters](http://lhcb-public.web.cern.ch/lhcb-public/en/detector/Calorimeters-en.html) are based on alternating layers of iron and scintillator. The particles interact and are absorbed in the iron and the amount of scintillation light detected allows the reconstruction of the energy of the\n",
    "paticles. Photons and electrons are primarily absorbed in the electromagnetic calorimeter. Hadrons are primarily absorbed in the hadron calorimeter. Only neutrinos, which remain undetected, and muons typically pass through the calorimeters. Muons are identified by a [muon system](http://lhcb-public.web.cern.ch/lhcb-public/en/detector/Muon-en.html) (M1–5) composed of alternating layers of iron and multiwire proportional chambers.\n",
    "Around 11 MHz of bunch-bunch crossings contain one or more inelastic pp interactions in the data sample studied here. The size of the event data produced by the LHCb detector means that this could only be written to disc at a rate of 3 kHz. The system used to determine which events to store is known as the [trigger](http://lhcb-public.web.cern.ch/lhcb-public/en/Data%20Collection/Triggers2-en.html). It consists of a hardware stage, based on information from the calorimeter and muon systems, followed by a software stage, which applies a full event reconstruction. The software stage is run in a large farm of multiprocessor CPUs which run 26,110 copies of the program. The trigger aims to retain as high efficiency as possible for the decays channels that will be studied while rejecting events of low interest.\n",
    "The data is then processed at CERN and by computers in an worldwide computing system known as the GRID. The data undergoes preselection to write out events of interest for paticular physics processes. Individual groups of analysts then write programs, using the LHCb software framework, to perform further selection and reduce the data size storing only the variables of primary interest. The data that you are provided with in the experiment is of this form.\n",
    "Simulations, in which the physics process under study or background processes are also generated for comparison with the data. These may also include detailed simulations of the response of the detector, so that the simulation data is directly comparable with the data. Simplified simulation data, not including detector repsonse, is provided here.\n",
    "The data sample provided has been selected by the trigger and offline selection from approximately 1014 beam crossings that occurred at LHCb in 2011. The sample provided includes only the most important reconstructed variables needed to perform this analysis in order to reduce the data file size and decrease the processing time for your analysis. The samples contain 3.4 million (5.1 million) events corresponding to an integrated luminosity of 434 pb−1 (584 pb−1) with the magnet in the “up” (“down”) polarity.</div>\n",
    "\n",
    "\n"
   ]
  },
  {
   "cell_type": "code",
   "execution_count": null,
   "metadata": {
    "collapsed": true
   },
   "outputs": [],
   "source": []
  }
 ],
 "metadata": {
  "kernelspec": {
   "display_name": "Python 2",
   "language": "python",
   "name": "python2"
  },
  "language_info": {
   "codemirror_mode": {
    "name": "ipython",
    "version": 2
   },
   "file_extension": ".py",
   "mimetype": "text/x-python",
   "name": "python",
   "nbconvert_exporter": "python",
   "pygments_lexer": "ipython2",
   "version": "2.7.10"
  }
 },
 "nbformat": 4,
 "nbformat_minor": 0
}
